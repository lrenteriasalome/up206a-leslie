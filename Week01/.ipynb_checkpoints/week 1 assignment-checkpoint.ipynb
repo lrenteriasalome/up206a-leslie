{
 "cells": [
  {
   "cell_type": "markdown",
   "id": "97924088-22b6-40df-8e91-eb25ed8bfec6",
   "metadata": {},
   "source": [
    "## Publicly Owned Parcels\n",
    "Offers perspective to property ownership in LA county. Over the last year, the idea of space and how we interact in spaces has been challenged in many areas of public and private life. COVID-19 has amplified conversations on the importance of land ownership, land access, and place-keeping."
   ]
  },
  {
   "cell_type": "code",
   "execution_count": 4,
   "id": "4c2ee212-ef63-4612-9c2f-16cb4e7c8c87",
   "metadata": {},
   "outputs": [
    {
     "name": "stderr",
     "output_type": "stream",
     "text": [
      "/opt/conda/lib/python3.9/site-packages/geopandas/_compat.py:106: UserWarning: The Shapely GEOS version (3.9.1-CAPI-1.14.2) is incompatible with the GEOS version PyGEOS was compiled with (3.10.1-CAPI-1.16.0). Conversions between both will be slow.\n",
      "  warnings.warn(\n"
     ]
    }
   ],
   "source": [
    "import geopandas as gpd"
   ]
  },
  {
   "cell_type": "markdown",
   "id": "ca7538f6-07b4-4b1c-b37b-fa93b2fa2a3e",
   "metadata": {},
   "source": [
    "Now, I will import my data. "
   ]
  },
  {
   "cell_type": "code",
   "execution_count": 8,
   "id": "866589ec-27bb-49e7-a3c8-baa024359921",
   "metadata": {},
   "outputs": [],
   "source": [
    "public_parcels = gpd.read_file(\"Assessor_-_Publicly_Owned_Parcels_Listing.csv\")"
   ]
  },
  {
   "cell_type": "markdown",
   "id": "dbb43026-2bbc-426b-b4fc-6822fa7ce2ad",
   "metadata": {},
   "source": [
    "It uploaded succesfully."
   ]
  },
  {
   "cell_type": "code",
   "execution_count": 9,
   "id": "d0e48797-e0da-48d8-ac1c-30374f9b76d7",
   "metadata": {},
   "outputs": [
    {
     "data": {
      "text/plain": [
       "geopandas.geodataframe.GeoDataFrame"
      ]
     },
     "execution_count": 9,
     "metadata": {},
     "output_type": "execute_result"
    }
   ],
   "source": [
    "type (public_parcels)"
   ]
  },
  {
   "cell_type": "markdown",
   "id": "f668aa8b-00a0-4deb-9722-7dc536f5b689",
   "metadata": {},
   "source": [
    "Now, I will look at all the data at large. "
   ]
  },
  {
   "cell_type": "code",
   "execution_count": 10,
   "id": "734c111b-dc6d-4026-8497-4ded3966bcde",
   "metadata": {},
   "outputs": [
    {
     "data": {
      "text/plain": [
       "<bound method DataFrame.info of          FileDate recsSort                                       AgencyName  \\\n",
       "0      12/14/2021    36715  MOUNTAINS RECREATION AND CONSERVATION AUTHORITY   \n",
       "1      12/14/2021    36716  MOUNTAINS RECREATION AND CONSERVATION AUTHORITY   \n",
       "2      12/14/2021    36717  MOUNTAINS RECREATION AND CONSERVATION AUTHORITY   \n",
       "3      12/14/2021    36718  MOUNTAINS RECREATION AND CONSERVATION AUTHORITY   \n",
       "4      12/14/2021    36719  MOUNTAINS RECREATION AND CONSERVATION AUTHORITY   \n",
       "...           ...      ...                                              ...   \n",
       "50988  12/14/2021    47024                                         U S GOVT   \n",
       "50989  12/14/2021    47025                                         U S GOVT   \n",
       "50990  12/14/2021    47026                                         U S GOVT   \n",
       "50991  12/14/2021    47027                                         U S GOVT   \n",
       "50992  12/14/2021    47028                                         U S GOVT   \n",
       "\n",
       "      SecondAgencyName         AIN    AssessorID TaxRateArea TaxRateArea_CITY  \\\n",
       "0                       3247036902  3247-036-902       02627   unincorporated   \n",
       "1                       3247036903  3247-036-903       02627   unincorporated   \n",
       "2                       3247036904  3247-036-904       02627   unincorporated   \n",
       "3                       3247036905  3247-036-905       02627   unincorporated   \n",
       "4                       3247036906  3247-036-906       02627   unincorporated   \n",
       "...                ...         ...           ...         ...              ...   \n",
       "50988                   2528027901  2528-027-901       00013      LOS ANGELES   \n",
       "50989                   2528028900  2528-028-900       00013      LOS ANGELES   \n",
       "50990                   2528030900  2528-030-900       00013      LOS ANGELES   \n",
       "50991                   2528036901  2528-036-901       00013      LOS ANGELES   \n",
       "50992                   2529023901  2529-023-901       00208      LOS ANGELES   \n",
       "\n",
       "      PropertyLocation PropertyUseCode GeneralUseType  \\\n",
       "0                                 580V       Dry Farm   \n",
       "1                                 580V       Dry Farm   \n",
       "2                                 580V       Dry Farm   \n",
       "3                                 580V       Dry Farm   \n",
       "4                                 580V       Dry Farm   \n",
       "...                ...             ...            ...   \n",
       "50988                             880V  Miscellaneous   \n",
       "50989                             8800  Miscellaneous   \n",
       "50990                             8800  Miscellaneous   \n",
       "50991                             8800  Miscellaneous   \n",
       "50992                             8855  Miscellaneous   \n",
       "\n",
       "                 SpecificUseType        SpecificUseDetail1 SpecificUseDetail2  \\\n",
       "0                         Desert                                                \n",
       "1                         Desert                                                \n",
       "2                         Desert                                                \n",
       "3                         Desert                                                \n",
       "4                         Desert                                                \n",
       "...                          ...                       ...                ...   \n",
       "50988  Government Owned Property                                                \n",
       "50989  Government Owned Property                                                \n",
       "50990  Government Owned Property                                                \n",
       "50991  Government Owned Property                                                \n",
       "50992  Government Owned Property  Water Related Facilities                      \n",
       "\n",
       "                               ParcelBoundaryDescription  \\\n",
       "0            40 ACS SE 1/4 OF SE 1/4 OF SEC 1 T 4N R 18W   \n",
       "1                              LOT 6 IN SEC 6 T 4N R 17W   \n",
       "2                              LOT 7 IN SEC 6 T 4N R 17W   \n",
       "3                   NW 1/4 OF SE 1/4 OF SEC 6 T 4N R 17W   \n",
       "4                   SE 1/4 OF SW 1/4 OF SEC 6 T 4N R 17W   \n",
       "...                                                  ...   \n",
       "50988  *TR=W. POR OF THE TUJUNGA RANCH*LOT (EX OF R/W...   \n",
       "50989  TRACT NO 102 LOT COM AT MOST S COR OF LOT 37 T...   \n",
       "50990  WEST PORTION OF TUJUNGA RANCH LOT EX OF ST AND...   \n",
       "50991  SEE ASSESSOR'S MAPS VAC STS, POR LOT 13 MB 13-...   \n",
       "50992  *LOT COM S 7�23' W 833.55 FT FROM NW COR OF LO...   \n",
       "\n",
       "      DateNewParcelActivated geometry  \n",
       "0                                None  \n",
       "1                                None  \n",
       "2                                None  \n",
       "3                                None  \n",
       "4                                None  \n",
       "...                      ...      ...  \n",
       "50988                            None  \n",
       "50989                            None  \n",
       "50990                            None  \n",
       "50991                            None  \n",
       "50992                            None  \n",
       "\n",
       "[50993 rows x 17 columns]>"
      ]
     },
     "execution_count": 10,
     "metadata": {},
     "output_type": "execute_result"
    }
   ],
   "source": [
    "public_parcels.info"
   ]
  },
  {
   "cell_type": "markdown",
   "id": "8b6aabba-4762-4c03-9bd8-fe857f2a0ae4",
   "metadata": {},
   "source": [
    "There is alot of the of information from my data set. Now, I will ask for the first and last 5 entries. "
   ]
  },
  {
   "cell_type": "code",
   "execution_count": 12,
   "id": "ef394382-20f8-4770-a826-aa1be26e49f3",
   "metadata": {},
   "outputs": [
    {
     "data": {
      "text/html": [
       "<div>\n",
       "<style scoped>\n",
       "    .dataframe tbody tr th:only-of-type {\n",
       "        vertical-align: middle;\n",
       "    }\n",
       "\n",
       "    .dataframe tbody tr th {\n",
       "        vertical-align: top;\n",
       "    }\n",
       "\n",
       "    .dataframe thead th {\n",
       "        text-align: right;\n",
       "    }\n",
       "</style>\n",
       "<table border=\"1\" class=\"dataframe\">\n",
       "  <thead>\n",
       "    <tr style=\"text-align: right;\">\n",
       "      <th></th>\n",
       "      <th>FileDate</th>\n",
       "      <th>recsSort</th>\n",
       "      <th>AgencyName</th>\n",
       "      <th>SecondAgencyName</th>\n",
       "      <th>AIN</th>\n",
       "      <th>AssessorID</th>\n",
       "      <th>TaxRateArea</th>\n",
       "      <th>TaxRateArea_CITY</th>\n",
       "      <th>PropertyLocation</th>\n",
       "      <th>PropertyUseCode</th>\n",
       "      <th>GeneralUseType</th>\n",
       "      <th>SpecificUseType</th>\n",
       "      <th>SpecificUseDetail1</th>\n",
       "      <th>SpecificUseDetail2</th>\n",
       "      <th>ParcelBoundaryDescription</th>\n",
       "      <th>DateNewParcelActivated</th>\n",
       "      <th>geometry</th>\n",
       "    </tr>\n",
       "  </thead>\n",
       "  <tbody>\n",
       "    <tr>\n",
       "      <th>0</th>\n",
       "      <td>12/14/2021</td>\n",
       "      <td>36715</td>\n",
       "      <td>MOUNTAINS RECREATION AND CONSERVATION AUTHORITY</td>\n",
       "      <td></td>\n",
       "      <td>3247036902</td>\n",
       "      <td>3247-036-902</td>\n",
       "      <td>02627</td>\n",
       "      <td>unincorporated</td>\n",
       "      <td></td>\n",
       "      <td>580V</td>\n",
       "      <td>Dry Farm</td>\n",
       "      <td>Desert</td>\n",
       "      <td></td>\n",
       "      <td></td>\n",
       "      <td>40 ACS SE 1/4 OF SE 1/4 OF SEC 1 T 4N R 18W</td>\n",
       "      <td></td>\n",
       "      <td>None</td>\n",
       "    </tr>\n",
       "    <tr>\n",
       "      <th>1</th>\n",
       "      <td>12/14/2021</td>\n",
       "      <td>36716</td>\n",
       "      <td>MOUNTAINS RECREATION AND CONSERVATION AUTHORITY</td>\n",
       "      <td></td>\n",
       "      <td>3247036903</td>\n",
       "      <td>3247-036-903</td>\n",
       "      <td>02627</td>\n",
       "      <td>unincorporated</td>\n",
       "      <td></td>\n",
       "      <td>580V</td>\n",
       "      <td>Dry Farm</td>\n",
       "      <td>Desert</td>\n",
       "      <td></td>\n",
       "      <td></td>\n",
       "      <td>LOT 6 IN SEC 6 T 4N R 17W</td>\n",
       "      <td></td>\n",
       "      <td>None</td>\n",
       "    </tr>\n",
       "    <tr>\n",
       "      <th>2</th>\n",
       "      <td>12/14/2021</td>\n",
       "      <td>36717</td>\n",
       "      <td>MOUNTAINS RECREATION AND CONSERVATION AUTHORITY</td>\n",
       "      <td></td>\n",
       "      <td>3247036904</td>\n",
       "      <td>3247-036-904</td>\n",
       "      <td>02627</td>\n",
       "      <td>unincorporated</td>\n",
       "      <td></td>\n",
       "      <td>580V</td>\n",
       "      <td>Dry Farm</td>\n",
       "      <td>Desert</td>\n",
       "      <td></td>\n",
       "      <td></td>\n",
       "      <td>LOT 7 IN SEC 6 T 4N R 17W</td>\n",
       "      <td></td>\n",
       "      <td>None</td>\n",
       "    </tr>\n",
       "    <tr>\n",
       "      <th>3</th>\n",
       "      <td>12/14/2021</td>\n",
       "      <td>36718</td>\n",
       "      <td>MOUNTAINS RECREATION AND CONSERVATION AUTHORITY</td>\n",
       "      <td></td>\n",
       "      <td>3247036905</td>\n",
       "      <td>3247-036-905</td>\n",
       "      <td>02627</td>\n",
       "      <td>unincorporated</td>\n",
       "      <td></td>\n",
       "      <td>580V</td>\n",
       "      <td>Dry Farm</td>\n",
       "      <td>Desert</td>\n",
       "      <td></td>\n",
       "      <td></td>\n",
       "      <td>NW 1/4 OF SE 1/4 OF SEC 6 T 4N R 17W</td>\n",
       "      <td></td>\n",
       "      <td>None</td>\n",
       "    </tr>\n",
       "    <tr>\n",
       "      <th>4</th>\n",
       "      <td>12/14/2021</td>\n",
       "      <td>36719</td>\n",
       "      <td>MOUNTAINS RECREATION AND CONSERVATION AUTHORITY</td>\n",
       "      <td></td>\n",
       "      <td>3247036906</td>\n",
       "      <td>3247-036-906</td>\n",
       "      <td>02627</td>\n",
       "      <td>unincorporated</td>\n",
       "      <td></td>\n",
       "      <td>580V</td>\n",
       "      <td>Dry Farm</td>\n",
       "      <td>Desert</td>\n",
       "      <td></td>\n",
       "      <td></td>\n",
       "      <td>SE 1/4 OF SW 1/4 OF SEC 6 T 4N R 17W</td>\n",
       "      <td></td>\n",
       "      <td>None</td>\n",
       "    </tr>\n",
       "  </tbody>\n",
       "</table>\n",
       "</div>"
      ],
      "text/plain": [
       "     FileDate recsSort                                       AgencyName  \\\n",
       "0  12/14/2021    36715  MOUNTAINS RECREATION AND CONSERVATION AUTHORITY   \n",
       "1  12/14/2021    36716  MOUNTAINS RECREATION AND CONSERVATION AUTHORITY   \n",
       "2  12/14/2021    36717  MOUNTAINS RECREATION AND CONSERVATION AUTHORITY   \n",
       "3  12/14/2021    36718  MOUNTAINS RECREATION AND CONSERVATION AUTHORITY   \n",
       "4  12/14/2021    36719  MOUNTAINS RECREATION AND CONSERVATION AUTHORITY   \n",
       "\n",
       "  SecondAgencyName         AIN    AssessorID TaxRateArea TaxRateArea_CITY  \\\n",
       "0                   3247036902  3247-036-902       02627   unincorporated   \n",
       "1                   3247036903  3247-036-903       02627   unincorporated   \n",
       "2                   3247036904  3247-036-904       02627   unincorporated   \n",
       "3                   3247036905  3247-036-905       02627   unincorporated   \n",
       "4                   3247036906  3247-036-906       02627   unincorporated   \n",
       "\n",
       "  PropertyLocation PropertyUseCode GeneralUseType SpecificUseType  \\\n",
       "0                             580V       Dry Farm          Desert   \n",
       "1                             580V       Dry Farm          Desert   \n",
       "2                             580V       Dry Farm          Desert   \n",
       "3                             580V       Dry Farm          Desert   \n",
       "4                             580V       Dry Farm          Desert   \n",
       "\n",
       "  SpecificUseDetail1 SpecificUseDetail2  \\\n",
       "0                                         \n",
       "1                                         \n",
       "2                                         \n",
       "3                                         \n",
       "4                                         \n",
       "\n",
       "                     ParcelBoundaryDescription DateNewParcelActivated geometry  \n",
       "0  40 ACS SE 1/4 OF SE 1/4 OF SEC 1 T 4N R 18W                            None  \n",
       "1                    LOT 6 IN SEC 6 T 4N R 17W                            None  \n",
       "2                    LOT 7 IN SEC 6 T 4N R 17W                            None  \n",
       "3         NW 1/4 OF SE 1/4 OF SEC 6 T 4N R 17W                            None  \n",
       "4         SE 1/4 OF SW 1/4 OF SEC 6 T 4N R 17W                            None  "
      ]
     },
     "execution_count": 12,
     "metadata": {},
     "output_type": "execute_result"
    }
   ],
   "source": [
    "public_parcels.head ()"
   ]
  },
  {
   "cell_type": "markdown",
   "id": "2c37ff92-fd71-4334-93a9-bf8e2cb98863",
   "metadata": {},
   "source": [
    "Below are the last 5 entries."
   ]
  },
  {
   "cell_type": "code",
   "execution_count": 13,
   "id": "9f4e71d1-076b-4261-82ce-c5472c3f59ec",
   "metadata": {},
   "outputs": [
    {
     "data": {
      "text/html": [
       "<div>\n",
       "<style scoped>\n",
       "    .dataframe tbody tr th:only-of-type {\n",
       "        vertical-align: middle;\n",
       "    }\n",
       "\n",
       "    .dataframe tbody tr th {\n",
       "        vertical-align: top;\n",
       "    }\n",
       "\n",
       "    .dataframe thead th {\n",
       "        text-align: right;\n",
       "    }\n",
       "</style>\n",
       "<table border=\"1\" class=\"dataframe\">\n",
       "  <thead>\n",
       "    <tr style=\"text-align: right;\">\n",
       "      <th></th>\n",
       "      <th>FileDate</th>\n",
       "      <th>recsSort</th>\n",
       "      <th>AgencyName</th>\n",
       "      <th>SecondAgencyName</th>\n",
       "      <th>AIN</th>\n",
       "      <th>AssessorID</th>\n",
       "      <th>TaxRateArea</th>\n",
       "      <th>TaxRateArea_CITY</th>\n",
       "      <th>PropertyLocation</th>\n",
       "      <th>PropertyUseCode</th>\n",
       "      <th>GeneralUseType</th>\n",
       "      <th>SpecificUseType</th>\n",
       "      <th>SpecificUseDetail1</th>\n",
       "      <th>SpecificUseDetail2</th>\n",
       "      <th>ParcelBoundaryDescription</th>\n",
       "      <th>DateNewParcelActivated</th>\n",
       "      <th>geometry</th>\n",
       "    </tr>\n",
       "  </thead>\n",
       "  <tbody>\n",
       "    <tr>\n",
       "      <th>50988</th>\n",
       "      <td>12/14/2021</td>\n",
       "      <td>47024</td>\n",
       "      <td>U S GOVT</td>\n",
       "      <td></td>\n",
       "      <td>2528027901</td>\n",
       "      <td>2528-027-901</td>\n",
       "      <td>00013</td>\n",
       "      <td>LOS ANGELES</td>\n",
       "      <td></td>\n",
       "      <td>880V</td>\n",
       "      <td>Miscellaneous</td>\n",
       "      <td>Government Owned Property</td>\n",
       "      <td></td>\n",
       "      <td></td>\n",
       "      <td>*TR=W. POR OF THE TUJUNGA RANCH*LOT (EX OF R/W...</td>\n",
       "      <td></td>\n",
       "      <td>None</td>\n",
       "    </tr>\n",
       "    <tr>\n",
       "      <th>50989</th>\n",
       "      <td>12/14/2021</td>\n",
       "      <td>47025</td>\n",
       "      <td>U S GOVT</td>\n",
       "      <td></td>\n",
       "      <td>2528028900</td>\n",
       "      <td>2528-028-900</td>\n",
       "      <td>00013</td>\n",
       "      <td>LOS ANGELES</td>\n",
       "      <td></td>\n",
       "      <td>8800</td>\n",
       "      <td>Miscellaneous</td>\n",
       "      <td>Government Owned Property</td>\n",
       "      <td></td>\n",
       "      <td></td>\n",
       "      <td>TRACT NO 102 LOT COM AT MOST S COR OF LOT 37 T...</td>\n",
       "      <td></td>\n",
       "      <td>None</td>\n",
       "    </tr>\n",
       "    <tr>\n",
       "      <th>50990</th>\n",
       "      <td>12/14/2021</td>\n",
       "      <td>47026</td>\n",
       "      <td>U S GOVT</td>\n",
       "      <td></td>\n",
       "      <td>2528030900</td>\n",
       "      <td>2528-030-900</td>\n",
       "      <td>00013</td>\n",
       "      <td>LOS ANGELES</td>\n",
       "      <td></td>\n",
       "      <td>8800</td>\n",
       "      <td>Miscellaneous</td>\n",
       "      <td>Government Owned Property</td>\n",
       "      <td></td>\n",
       "      <td></td>\n",
       "      <td>WEST PORTION OF TUJUNGA RANCH LOT EX OF ST AND...</td>\n",
       "      <td></td>\n",
       "      <td>None</td>\n",
       "    </tr>\n",
       "    <tr>\n",
       "      <th>50991</th>\n",
       "      <td>12/14/2021</td>\n",
       "      <td>47027</td>\n",
       "      <td>U S GOVT</td>\n",
       "      <td></td>\n",
       "      <td>2528036901</td>\n",
       "      <td>2528-036-901</td>\n",
       "      <td>00013</td>\n",
       "      <td>LOS ANGELES</td>\n",
       "      <td></td>\n",
       "      <td>8800</td>\n",
       "      <td>Miscellaneous</td>\n",
       "      <td>Government Owned Property</td>\n",
       "      <td></td>\n",
       "      <td></td>\n",
       "      <td>SEE ASSESSOR'S MAPS VAC STS, POR LOT 13 MB 13-...</td>\n",
       "      <td></td>\n",
       "      <td>None</td>\n",
       "    </tr>\n",
       "    <tr>\n",
       "      <th>50992</th>\n",
       "      <td>12/14/2021</td>\n",
       "      <td>47028</td>\n",
       "      <td>U S GOVT</td>\n",
       "      <td></td>\n",
       "      <td>2529023901</td>\n",
       "      <td>2529-023-901</td>\n",
       "      <td>00208</td>\n",
       "      <td>LOS ANGELES</td>\n",
       "      <td></td>\n",
       "      <td>8855</td>\n",
       "      <td>Miscellaneous</td>\n",
       "      <td>Government Owned Property</td>\n",
       "      <td>Water Related Facilities</td>\n",
       "      <td></td>\n",
       "      <td>*LOT COM S 7�23' W 833.55 FT FROM NW COR OF LO...</td>\n",
       "      <td></td>\n",
       "      <td>None</td>\n",
       "    </tr>\n",
       "  </tbody>\n",
       "</table>\n",
       "</div>"
      ],
      "text/plain": [
       "         FileDate recsSort AgencyName SecondAgencyName         AIN  \\\n",
       "50988  12/14/2021    47024   U S GOVT                   2528027901   \n",
       "50989  12/14/2021    47025   U S GOVT                   2528028900   \n",
       "50990  12/14/2021    47026   U S GOVT                   2528030900   \n",
       "50991  12/14/2021    47027   U S GOVT                   2528036901   \n",
       "50992  12/14/2021    47028   U S GOVT                   2529023901   \n",
       "\n",
       "         AssessorID TaxRateArea TaxRateArea_CITY PropertyLocation  \\\n",
       "50988  2528-027-901       00013      LOS ANGELES                    \n",
       "50989  2528-028-900       00013      LOS ANGELES                    \n",
       "50990  2528-030-900       00013      LOS ANGELES                    \n",
       "50991  2528-036-901       00013      LOS ANGELES                    \n",
       "50992  2529-023-901       00208      LOS ANGELES                    \n",
       "\n",
       "      PropertyUseCode GeneralUseType            SpecificUseType  \\\n",
       "50988            880V  Miscellaneous  Government Owned Property   \n",
       "50989            8800  Miscellaneous  Government Owned Property   \n",
       "50990            8800  Miscellaneous  Government Owned Property   \n",
       "50991            8800  Miscellaneous  Government Owned Property   \n",
       "50992            8855  Miscellaneous  Government Owned Property   \n",
       "\n",
       "             SpecificUseDetail1 SpecificUseDetail2  \\\n",
       "50988                                                \n",
       "50989                                                \n",
       "50990                                                \n",
       "50991                                                \n",
       "50992  Water Related Facilities                      \n",
       "\n",
       "                               ParcelBoundaryDescription  \\\n",
       "50988  *TR=W. POR OF THE TUJUNGA RANCH*LOT (EX OF R/W...   \n",
       "50989  TRACT NO 102 LOT COM AT MOST S COR OF LOT 37 T...   \n",
       "50990  WEST PORTION OF TUJUNGA RANCH LOT EX OF ST AND...   \n",
       "50991  SEE ASSESSOR'S MAPS VAC STS, POR LOT 13 MB 13-...   \n",
       "50992  *LOT COM S 7�23' W 833.55 FT FROM NW COR OF LO...   \n",
       "\n",
       "      DateNewParcelActivated geometry  \n",
       "50988                            None  \n",
       "50989                            None  \n",
       "50990                            None  \n",
       "50991                            None  \n",
       "50992                            None  "
      ]
     },
     "execution_count": 13,
     "metadata": {},
     "output_type": "execute_result"
    }
   ],
   "source": [
    "public_parcels.tail ()"
   ]
  },
  {
   "cell_type": "markdown",
   "id": "d07ffba0-b35a-49fe-93fe-dab5ad9a0126",
   "metadata": {},
   "source": [
    "I want to get a clear vision of how many columns and rows. "
   ]
  },
  {
   "cell_type": "code",
   "execution_count": 14,
   "id": "c5a8cf39-9f8d-4326-8374-f3d78d60a389",
   "metadata": {},
   "outputs": [
    {
     "data": {
      "text/plain": [
       "(50993, 17)"
      ]
     },
     "execution_count": 14,
     "metadata": {},
     "output_type": "execute_result"
    }
   ],
   "source": [
    "public_parcels.shape"
   ]
  },
  {
   "cell_type": "markdown",
   "id": "9c4f0888-7301-405c-9d53-3289eb194547",
   "metadata": {},
   "source": [
    "50993 collisions, 17 columns. Now, I will see what type of data I have. "
   ]
  },
  {
   "cell_type": "code",
   "execution_count": 15,
   "id": "e70dd90e-2884-474a-9995-b4eb59da08be",
   "metadata": {},
   "outputs": [
    {
     "data": {
      "text/plain": [
       "FileDate                       object\n",
       "recsSort                       object\n",
       "AgencyName                     object\n",
       "SecondAgencyName               object\n",
       "AIN                            object\n",
       "AssessorID                     object\n",
       "TaxRateArea                    object\n",
       "TaxRateArea_CITY               object\n",
       "PropertyLocation               object\n",
       "PropertyUseCode                object\n",
       "GeneralUseType                 object\n",
       "SpecificUseType                object\n",
       "SpecificUseDetail1             object\n",
       "SpecificUseDetail2             object\n",
       "ParcelBoundaryDescription      object\n",
       "DateNewParcelActivated         object\n",
       "geometry                     geometry\n",
       "dtype: object"
      ]
     },
     "execution_count": 15,
     "metadata": {},
     "output_type": "execute_result"
    }
   ],
   "source": [
    "public_parcels.dtypes"
   ]
  },
  {
   "cell_type": "markdown",
   "id": "20fcd237-a233-47fe-ba92-58733e685787",
   "metadata": {},
   "source": [
    "Now I'm going to run a plot to see what type of visual this creates."
   ]
  },
  {
   "cell_type": "code",
   "execution_count": 16,
   "id": "27cf9f11-b271-4e19-be1e-d1172d0bf448",
   "metadata": {},
   "outputs": [
    {
     "data": {
      "text/plain": [
       "<AxesSubplot:>"
      ]
     },
     "execution_count": 16,
     "metadata": {},
     "output_type": "execute_result"
    },
    {
     "data": {
      "image/png": "[encoded data removed]",
      "text/plain": [
       "<Figure size 432x288 with 1 Axes>"
      ]
     },
     "metadata": {
      "needs_background": "light"
     },
     "output_type": "display_data"
    }
   ],
   "source": [
    "public_parcels.plot ()"
   ]
  },
  {
   "cell_type": "markdown",
   "id": "ad26ab96-61d1-4af3-b897-de1096487c49",
   "metadata": {},
   "source": [
    "I think there is alot of data to plot. I can try to be more specific on x and y axis. "
   ]
  },
  {
   "cell_type": "code",
   "execution_count": 18,
   "id": "d46ba169-e12e-46f8-a2b3-12391cfba172",
   "metadata": {},
   "outputs": [
    {
     "data": {
      "text/plain": [
       "Miscellaneous     28026\n",
       "Residential       12033\n",
       "Commercial         3792\n",
       "Industrial         3002\n",
       "Dry Farm           2858\n",
       "                    452\n",
       "Institutional       421\n",
       "Recreational        302\n",
       "Irrigated Farm      107\n",
       "Name: GeneralUseType, dtype: int64"
      ]
     },
     "execution_count": 18,
     "metadata": {},
     "output_type": "execute_result"
    }
   ],
   "source": [
    "public_parcels['GeneralUseType'].value_counts ()"
   ]
  },
  {
   "cell_type": "markdown",
   "id": "02acdf84-afa8-4e3b-ae5b-6de4a560147f",
   "metadata": {},
   "source": [
    "Now i will try to plot. "
   ]
  },
  {
   "cell_type": "code",
   "execution_count": 21,
   "id": "570ac4c4-1cee-42f9-8bb6-d3de41cd446a",
   "metadata": {},
   "outputs": [],
   "source": [
    "usage = public_parcels['GeneralUseType'].value_counts ()"
   ]
  },
  {
   "cell_type": "code",
   "execution_count": 22,
   "id": "2a5d4997-37e3-407f-8961-a89a0bd3b97a",
   "metadata": {},
   "outputs": [
    {
     "ename": "KeyError",
     "evalue": "'usage'",
     "output_type": "error",
     "traceback": [
      "\u001b[0;31m---------------------------------------------------------------------------\u001b[0m",
      "\u001b[0;31mKeyError\u001b[0m                                  Traceback (most recent call last)",
      "\u001b[0;32m/opt/conda/lib/python3.9/site-packages/pandas/core/indexes/base.py\u001b[0m in \u001b[0;36mget_loc\u001b[0;34m(self, key, method, tolerance)\u001b[0m\n\u001b[1;32m   3360\u001b[0m             \u001b[0;32mtry\u001b[0m\u001b[0;34m:\u001b[0m\u001b[0;34m\u001b[0m\u001b[0;34m\u001b[0m\u001b[0m\n\u001b[0;32m-> 3361\u001b[0;31m                 \u001b[0;32mreturn\u001b[0m \u001b[0mself\u001b[0m\u001b[0;34m.\u001b[0m\u001b[0m_engine\u001b[0m\u001b[0;34m.\u001b[0m\u001b[0mget_loc\u001b[0m\u001b[0;34m(\u001b[0m\u001b[0mcasted_key\u001b[0m\u001b[0;34m)\u001b[0m\u001b[0;34m\u001b[0m\u001b[0;34m\u001b[0m\u001b[0m\n\u001b[0m\u001b[1;32m   3362\u001b[0m             \u001b[0;32mexcept\u001b[0m \u001b[0mKeyError\u001b[0m \u001b[0;32mas\u001b[0m \u001b[0merr\u001b[0m\u001b[0;34m:\u001b[0m\u001b[0;34m\u001b[0m\u001b[0;34m\u001b[0m\u001b[0m\n",
      "\u001b[0;32m/opt/conda/lib/python3.9/site-packages/pandas/_libs/index.pyx\u001b[0m in \u001b[0;36mpandas._libs.index.IndexEngine.get_loc\u001b[0;34m()\u001b[0m\n",
      "\u001b[0;32m/opt/conda/lib/python3.9/site-packages/pandas/_libs/index.pyx\u001b[0m in \u001b[0;36mpandas._libs.index.IndexEngine.get_loc\u001b[0;34m()\u001b[0m\n",
      "\u001b[0;32mpandas/_libs/hashtable_class_helper.pxi\u001b[0m in \u001b[0;36mpandas._libs.hashtable.PyObjectHashTable.get_item\u001b[0;34m()\u001b[0m\n",
      "\u001b[0;32mpandas/_libs/hashtable_class_helper.pxi\u001b[0m in \u001b[0;36mpandas._libs.hashtable.PyObjectHashTable.get_item\u001b[0;34m()\u001b[0m\n",
      "\u001b[0;31mKeyError\u001b[0m: 'usage'",
      "\nThe above exception was the direct cause of the following exception:\n",
      "\u001b[0;31mKeyError\u001b[0m                                  Traceback (most recent call last)",
      "\u001b[0;32m/tmp/ipykernel_70/2143704037.py\u001b[0m in \u001b[0;36m<module>\u001b[0;34m\u001b[0m\n\u001b[0;32m----> 1\u001b[0;31m \u001b[0mpublic_parcels\u001b[0m\u001b[0;34m.\u001b[0m\u001b[0mplot\u001b[0m \u001b[0;34m(\u001b[0m\u001b[0;34m'usage'\u001b[0m\u001b[0;34m)\u001b[0m\u001b[0;34m\u001b[0m\u001b[0;34m\u001b[0m\u001b[0m\n\u001b[0m",
      "\u001b[0;32m/opt/conda/lib/python3.9/site-packages/geopandas/plotting.py\u001b[0m in \u001b[0;36m__call__\u001b[0;34m(self, *args, **kwargs)\u001b[0m\n\u001b[1;32m    923\u001b[0m             \u001b[0mkind\u001b[0m \u001b[0;34m=\u001b[0m \u001b[0mkwargs\u001b[0m\u001b[0;34m.\u001b[0m\u001b[0mpop\u001b[0m\u001b[0;34m(\u001b[0m\u001b[0;34m\"kind\"\u001b[0m\u001b[0;34m,\u001b[0m \u001b[0;34m\"geo\"\u001b[0m\u001b[0;34m)\u001b[0m\u001b[0;34m\u001b[0m\u001b[0;34m\u001b[0m\u001b[0m\n\u001b[1;32m    924\u001b[0m             \u001b[0;32mif\u001b[0m \u001b[0mkind\u001b[0m \u001b[0;34m==\u001b[0m \u001b[0;34m\"geo\"\u001b[0m\u001b[0;34m:\u001b[0m\u001b[0;34m\u001b[0m\u001b[0;34m\u001b[0m\u001b[0m\n\u001b[0;32m--> 925\u001b[0;31m                 \u001b[0;32mreturn\u001b[0m \u001b[0mplot_dataframe\u001b[0m\u001b[0;34m(\u001b[0m\u001b[0mdata\u001b[0m\u001b[0;34m,\u001b[0m \u001b[0;34m*\u001b[0m\u001b[0margs\u001b[0m\u001b[0;34m,\u001b[0m \u001b[0;34m**\u001b[0m\u001b[0mkwargs\u001b[0m\u001b[0;34m)\u001b[0m\u001b[0;34m\u001b[0m\u001b[0;34m\u001b[0m\u001b[0m\n\u001b[0m\u001b[1;32m    926\u001b[0m             \u001b[0;32mif\u001b[0m \u001b[0mkind\u001b[0m \u001b[0;32min\u001b[0m \u001b[0mself\u001b[0m\u001b[0;34m.\u001b[0m\u001b[0m_pandas_kinds\u001b[0m\u001b[0;34m:\u001b[0m\u001b[0;34m\u001b[0m\u001b[0;34m\u001b[0m\u001b[0m\n\u001b[1;32m    927\u001b[0m                 \u001b[0;31m# Access pandas plots\u001b[0m\u001b[0;34m\u001b[0m\u001b[0;34m\u001b[0m\u001b[0;34m\u001b[0m\u001b[0m\n",
      "\u001b[0;32m/opt/conda/lib/python3.9/site-packages/geopandas/plotting.py\u001b[0m in \u001b[0;36mplot_dataframe\u001b[0;34m(df, column, cmap, color, ax, cax, categorical, legend, scheme, k, vmin, vmax, markersize, figsize, legend_kwds, categories, classification_kwds, missing_kwds, aspect, **style_kwds)\u001b[0m\n\u001b[1;32m    711\u001b[0m                 \u001b[0mvalues\u001b[0m \u001b[0;34m=\u001b[0m \u001b[0mvalues\u001b[0m\u001b[0;34m.\u001b[0m\u001b[0mreindex\u001b[0m\u001b[0;34m(\u001b[0m\u001b[0mdf\u001b[0m\u001b[0;34m.\u001b[0m\u001b[0mindex\u001b[0m\u001b[0;34m)\u001b[0m\u001b[0;34m\u001b[0m\u001b[0;34m\u001b[0m\u001b[0m\n\u001b[1;32m    712\u001b[0m     \u001b[0;32melse\u001b[0m\u001b[0;34m:\u001b[0m\u001b[0;34m\u001b[0m\u001b[0;34m\u001b[0m\u001b[0m\n\u001b[0;32m--> 713\u001b[0;31m         \u001b[0mvalues\u001b[0m \u001b[0;34m=\u001b[0m \u001b[0mdf\u001b[0m\u001b[0;34m[\u001b[0m\u001b[0mcolumn\u001b[0m\u001b[0;34m]\u001b[0m\u001b[0;34m\u001b[0m\u001b[0;34m\u001b[0m\u001b[0m\n\u001b[0m\u001b[1;32m    714\u001b[0m \u001b[0;34m\u001b[0m\u001b[0m\n\u001b[1;32m    715\u001b[0m     \u001b[0;32mif\u001b[0m \u001b[0mpd\u001b[0m\u001b[0;34m.\u001b[0m\u001b[0mapi\u001b[0m\u001b[0;34m.\u001b[0m\u001b[0mtypes\u001b[0m\u001b[0;34m.\u001b[0m\u001b[0mis_categorical_dtype\u001b[0m\u001b[0;34m(\u001b[0m\u001b[0mvalues\u001b[0m\u001b[0;34m.\u001b[0m\u001b[0mdtype\u001b[0m\u001b[0;34m)\u001b[0m\u001b[0;34m:\u001b[0m\u001b[0;34m\u001b[0m\u001b[0;34m\u001b[0m\u001b[0m\n",
      "\u001b[0;32m/opt/conda/lib/python3.9/site-packages/geopandas/geodataframe.py\u001b[0m in \u001b[0;36m__getitem__\u001b[0;34m(self, key)\u001b[0m\n\u001b[1;32m   1297\u001b[0m         \u001b[0mGeoDataFrame\u001b[0m\u001b[0;34m.\u001b[0m\u001b[0;34m\u001b[0m\u001b[0;34m\u001b[0m\u001b[0m\n\u001b[1;32m   1298\u001b[0m         \"\"\"\n\u001b[0;32m-> 1299\u001b[0;31m         \u001b[0mresult\u001b[0m \u001b[0;34m=\u001b[0m \u001b[0msuper\u001b[0m\u001b[0;34m(\u001b[0m\u001b[0mGeoDataFrame\u001b[0m\u001b[0;34m,\u001b[0m \u001b[0mself\u001b[0m\u001b[0;34m)\u001b[0m\u001b[0;34m.\u001b[0m\u001b[0m__getitem__\u001b[0m\u001b[0;34m(\u001b[0m\u001b[0mkey\u001b[0m\u001b[0;34m)\u001b[0m\u001b[0;34m\u001b[0m\u001b[0;34m\u001b[0m\u001b[0m\n\u001b[0m\u001b[1;32m   1300\u001b[0m         \u001b[0mgeo_col\u001b[0m \u001b[0;34m=\u001b[0m \u001b[0mself\u001b[0m\u001b[0;34m.\u001b[0m\u001b[0m_geometry_column_name\u001b[0m\u001b[0;34m\u001b[0m\u001b[0;34m\u001b[0m\u001b[0m\n\u001b[1;32m   1301\u001b[0m         \u001b[0;32mif\u001b[0m \u001b[0misinstance\u001b[0m\u001b[0;34m(\u001b[0m\u001b[0mresult\u001b[0m\u001b[0;34m,\u001b[0m \u001b[0mSeries\u001b[0m\u001b[0;34m)\u001b[0m \u001b[0;32mand\u001b[0m \u001b[0misinstance\u001b[0m\u001b[0;34m(\u001b[0m\u001b[0mresult\u001b[0m\u001b[0;34m.\u001b[0m\u001b[0mdtype\u001b[0m\u001b[0;34m,\u001b[0m \u001b[0mGeometryDtype\u001b[0m\u001b[0;34m)\u001b[0m\u001b[0;34m:\u001b[0m\u001b[0;34m\u001b[0m\u001b[0;34m\u001b[0m\u001b[0m\n",
      "\u001b[0;32m/opt/conda/lib/python3.9/site-packages/pandas/core/frame.py\u001b[0m in \u001b[0;36m__getitem__\u001b[0;34m(self, key)\u001b[0m\n\u001b[1;32m   3456\u001b[0m             \u001b[0;32mif\u001b[0m \u001b[0mself\u001b[0m\u001b[0;34m.\u001b[0m\u001b[0mcolumns\u001b[0m\u001b[0;34m.\u001b[0m\u001b[0mnlevels\u001b[0m \u001b[0;34m>\u001b[0m \u001b[0;36m1\u001b[0m\u001b[0;34m:\u001b[0m\u001b[0;34m\u001b[0m\u001b[0;34m\u001b[0m\u001b[0m\n\u001b[1;32m   3457\u001b[0m                 \u001b[0;32mreturn\u001b[0m \u001b[0mself\u001b[0m\u001b[0;34m.\u001b[0m\u001b[0m_getitem_multilevel\u001b[0m\u001b[0;34m(\u001b[0m\u001b[0mkey\u001b[0m\u001b[0;34m)\u001b[0m\u001b[0;34m\u001b[0m\u001b[0;34m\u001b[0m\u001b[0m\n\u001b[0;32m-> 3458\u001b[0;31m             \u001b[0mindexer\u001b[0m \u001b[0;34m=\u001b[0m \u001b[0mself\u001b[0m\u001b[0;34m.\u001b[0m\u001b[0mcolumns\u001b[0m\u001b[0;34m.\u001b[0m\u001b[0mget_loc\u001b[0m\u001b[0;34m(\u001b[0m\u001b[0mkey\u001b[0m\u001b[0;34m)\u001b[0m\u001b[0;34m\u001b[0m\u001b[0;34m\u001b[0m\u001b[0m\n\u001b[0m\u001b[1;32m   3459\u001b[0m             \u001b[0;32mif\u001b[0m \u001b[0mis_integer\u001b[0m\u001b[0;34m(\u001b[0m\u001b[0mindexer\u001b[0m\u001b[0;34m)\u001b[0m\u001b[0;34m:\u001b[0m\u001b[0;34m\u001b[0m\u001b[0;34m\u001b[0m\u001b[0m\n\u001b[1;32m   3460\u001b[0m                 \u001b[0mindexer\u001b[0m \u001b[0;34m=\u001b[0m \u001b[0;34m[\u001b[0m\u001b[0mindexer\u001b[0m\u001b[0;34m]\u001b[0m\u001b[0;34m\u001b[0m\u001b[0;34m\u001b[0m\u001b[0m\n",
      "\u001b[0;32m/opt/conda/lib/python3.9/site-packages/pandas/core/indexes/base.py\u001b[0m in \u001b[0;36mget_loc\u001b[0;34m(self, key, method, tolerance)\u001b[0m\n\u001b[1;32m   3361\u001b[0m                 \u001b[0;32mreturn\u001b[0m \u001b[0mself\u001b[0m\u001b[0;34m.\u001b[0m\u001b[0m_engine\u001b[0m\u001b[0;34m.\u001b[0m\u001b[0mget_loc\u001b[0m\u001b[0;34m(\u001b[0m\u001b[0mcasted_key\u001b[0m\u001b[0;34m)\u001b[0m\u001b[0;34m\u001b[0m\u001b[0;34m\u001b[0m\u001b[0m\n\u001b[1;32m   3362\u001b[0m             \u001b[0;32mexcept\u001b[0m \u001b[0mKeyError\u001b[0m \u001b[0;32mas\u001b[0m \u001b[0merr\u001b[0m\u001b[0;34m:\u001b[0m\u001b[0;34m\u001b[0m\u001b[0;34m\u001b[0m\u001b[0m\n\u001b[0;32m-> 3363\u001b[0;31m                 \u001b[0;32mraise\u001b[0m \u001b[0mKeyError\u001b[0m\u001b[0;34m(\u001b[0m\u001b[0mkey\u001b[0m\u001b[0;34m)\u001b[0m \u001b[0;32mfrom\u001b[0m \u001b[0merr\u001b[0m\u001b[0;34m\u001b[0m\u001b[0;34m\u001b[0m\u001b[0m\n\u001b[0m\u001b[1;32m   3364\u001b[0m \u001b[0;34m\u001b[0m\u001b[0m\n\u001b[1;32m   3365\u001b[0m         \u001b[0;32mif\u001b[0m \u001b[0mis_scalar\u001b[0m\u001b[0;34m(\u001b[0m\u001b[0mkey\u001b[0m\u001b[0;34m)\u001b[0m \u001b[0;32mand\u001b[0m \u001b[0misna\u001b[0m\u001b[0;34m(\u001b[0m\u001b[0mkey\u001b[0m\u001b[0;34m)\u001b[0m \u001b[0;32mand\u001b[0m \u001b[0;32mnot\u001b[0m \u001b[0mself\u001b[0m\u001b[0;34m.\u001b[0m\u001b[0mhasnans\u001b[0m\u001b[0;34m:\u001b[0m\u001b[0;34m\u001b[0m\u001b[0;34m\u001b[0m\u001b[0m\n",
      "\u001b[0;31mKeyError\u001b[0m: 'usage'"
     ]
    },
    {
     "data": {
      "image/png": "[encoded data removed]",
      "text/plain": [
       "<Figure size 432x288 with 1 Axes>"
      ]
     },
     "metadata": {
      "needs_background": "light"
     },
     "output_type": "display_data"
    }
   ],
   "source": [
    "public_parcels.plot ('usage')"
   ]
  },
  {
   "cell_type": "markdown",
   "id": "81d17375-c532-4955-8982-5b3b10c70cda",
   "metadata": {},
   "source": [
    "I see that 'day' has to be converted into a dataframe. This will convert it into a table that Python can interpret and plot."
   ]
  },
  {
   "cell_type": "code",
   "execution_count": 25,
   "id": "83ac0702-be9c-49e5-a273-d4cf14383005",
   "metadata": {},
   "outputs": [
    {
     "data": {
      "text/html": [
       "<div>\n",
       "<style scoped>\n",
       "    .dataframe tbody tr th:only-of-type {\n",
       "        vertical-align: middle;\n",
       "    }\n",
       "\n",
       "    .dataframe tbody tr th {\n",
       "        vertical-align: top;\n",
       "    }\n",
       "\n",
       "    .dataframe thead th {\n",
       "        text-align: right;\n",
       "    }\n",
       "</style>\n",
       "<table border=\"1\" class=\"dataframe\">\n",
       "  <thead>\n",
       "    <tr style=\"text-align: right;\">\n",
       "      <th></th>\n",
       "      <th>index</th>\n",
       "      <th>GeneralUseType</th>\n",
       "    </tr>\n",
       "  </thead>\n",
       "  <tbody>\n",
       "    <tr>\n",
       "      <th>0</th>\n",
       "      <td>Miscellaneous</td>\n",
       "      <td>28026</td>\n",
       "    </tr>\n",
       "    <tr>\n",
       "      <th>1</th>\n",
       "      <td>Residential</td>\n",
       "      <td>12033</td>\n",
       "    </tr>\n",
       "    <tr>\n",
       "      <th>2</th>\n",
       "      <td>Commercial</td>\n",
       "      <td>3792</td>\n",
       "    </tr>\n",
       "    <tr>\n",
       "      <th>3</th>\n",
       "      <td>Industrial</td>\n",
       "      <td>3002</td>\n",
       "    </tr>\n",
       "    <tr>\n",
       "      <th>4</th>\n",
       "      <td>Dry Farm</td>\n",
       "      <td>2858</td>\n",
       "    </tr>\n",
       "    <tr>\n",
       "      <th>5</th>\n",
       "      <td></td>\n",
       "      <td>452</td>\n",
       "    </tr>\n",
       "    <tr>\n",
       "      <th>6</th>\n",
       "      <td>Institutional</td>\n",
       "      <td>421</td>\n",
       "    </tr>\n",
       "    <tr>\n",
       "      <th>7</th>\n",
       "      <td>Recreational</td>\n",
       "      <td>302</td>\n",
       "    </tr>\n",
       "    <tr>\n",
       "      <th>8</th>\n",
       "      <td>Irrigated Farm</td>\n",
       "      <td>107</td>\n",
       "    </tr>\n",
       "  </tbody>\n",
       "</table>\n",
       "</div>"
      ],
      "text/plain": [
       "            index  GeneralUseType\n",
       "0   Miscellaneous           28026\n",
       "1     Residential           12033\n",
       "2      Commercial            3792\n",
       "3      Industrial            3002\n",
       "4        Dry Farm            2858\n",
       "5                             452\n",
       "6   Institutional             421\n",
       "7    Recreational             302\n",
       "8  Irrigated Farm             107"
      ]
     },
     "execution_count": 25,
     "metadata": {},
     "output_type": "execute_result"
    }
   ],
   "source": [
    "usage = usage.reset_index ()\n",
    "usage"
   ]
  },
  {
   "cell_type": "markdown",
   "id": "cea7d296-63f4-46cb-9742-5ab6e28864f3",
   "metadata": {},
   "source": [
    "Now, I tried to plot again."
   ]
  },
  {
   "cell_type": "code",
   "execution_count": 26,
   "id": "33c2ff48-cf54-43d0-a1b9-0da3d4dd0ebb",
   "metadata": {},
   "outputs": [
    {
     "data": {
      "text/plain": [
       "<AxesSubplot:>"
      ]
     },
     "execution_count": 26,
     "metadata": {},
     "output_type": "execute_result"
    },
    {
     "data": {
      "image/png": "[encoded data removed]",
      "text/plain": [
       "<Figure size 432x288 with 1 Axes>"
      ]
     },
     "metadata": {
      "needs_background": "light"
     },
     "output_type": "display_data"
    }
   ],
   "source": [
    "usage.plot ()"
   ]
  },
  {
   "cell_type": "markdown",
   "id": "bc82f671-132a-4df4-932a-f5001c9fcdba",
   "metadata": {},
   "source": [
    "Now, im going to add names to the axis. That way it has meaningful data."
   ]
  },
  {
   "cell_type": "code",
   "execution_count": 30,
   "id": "f70275c9-976e-49e9-b6f5-4c08ad7f06d4",
   "metadata": {},
   "outputs": [],
   "source": [
    "usage.columns = ['usage', 'Number of parcels']"
   ]
  },
  {
   "cell_type": "code",
   "execution_count": 31,
   "id": "0397510c-fd62-4ab7-b774-56f83ffc52a1",
   "metadata": {},
   "outputs": [
    {
     "data": {
      "text/html": [
       "<div>\n",
       "<style scoped>\n",
       "    .dataframe tbody tr th:only-of-type {\n",
       "        vertical-align: middle;\n",
       "    }\n",
       "\n",
       "    .dataframe tbody tr th {\n",
       "        vertical-align: top;\n",
       "    }\n",
       "\n",
       "    .dataframe thead th {\n",
       "        text-align: right;\n",
       "    }\n",
       "</style>\n",
       "<table border=\"1\" class=\"dataframe\">\n",
       "  <thead>\n",
       "    <tr style=\"text-align: right;\">\n",
       "      <th></th>\n",
       "      <th>usage</th>\n",
       "      <th>Number of parcels</th>\n",
       "    </tr>\n",
       "  </thead>\n",
       "  <tbody>\n",
       "    <tr>\n",
       "      <th>0</th>\n",
       "      <td>Miscellaneous</td>\n",
       "      <td>28026</td>\n",
       "    </tr>\n",
       "    <tr>\n",
       "      <th>1</th>\n",
       "      <td>Residential</td>\n",
       "      <td>12033</td>\n",
       "    </tr>\n",
       "    <tr>\n",
       "      <th>2</th>\n",
       "      <td>Commercial</td>\n",
       "      <td>3792</td>\n",
       "    </tr>\n",
       "    <tr>\n",
       "      <th>3</th>\n",
       "      <td>Industrial</td>\n",
       "      <td>3002</td>\n",
       "    </tr>\n",
       "    <tr>\n",
       "      <th>4</th>\n",
       "      <td>Dry Farm</td>\n",
       "      <td>2858</td>\n",
       "    </tr>\n",
       "    <tr>\n",
       "      <th>5</th>\n",
       "      <td></td>\n",
       "      <td>452</td>\n",
       "    </tr>\n",
       "    <tr>\n",
       "      <th>6</th>\n",
       "      <td>Institutional</td>\n",
       "      <td>421</td>\n",
       "    </tr>\n",
       "    <tr>\n",
       "      <th>7</th>\n",
       "      <td>Recreational</td>\n",
       "      <td>302</td>\n",
       "    </tr>\n",
       "    <tr>\n",
       "      <th>8</th>\n",
       "      <td>Irrigated Farm</td>\n",
       "      <td>107</td>\n",
       "    </tr>\n",
       "  </tbody>\n",
       "</table>\n",
       "</div>"
      ],
      "text/plain": [
       "            usage  Number of parcels\n",
       "0   Miscellaneous              28026\n",
       "1     Residential              12033\n",
       "2      Commercial               3792\n",
       "3      Industrial               3002\n",
       "4        Dry Farm               2858\n",
       "5                                452\n",
       "6   Institutional                421\n",
       "7    Recreational                302\n",
       "8  Irrigated Farm                107"
      ]
     },
     "execution_count": 31,
     "metadata": {},
     "output_type": "execute_result"
    }
   ],
   "source": [
    "usage"
   ]
  },
  {
   "cell_type": "code",
   "execution_count": 32,
   "id": "3ad7e828-775e-4ea5-9196-41ee974b3068",
   "metadata": {},
   "outputs": [
    {
     "data": {
      "text/plain": [
       "<AxesSubplot:title={'center':'Publicly owned parcels usage in LA'}, xlabel='usage'>"
      ]
     },
     "execution_count": 32,
     "metadata": {},
     "output_type": "execute_result"
    },
    {
     "data": {
      "image/png": "[encoded data removed]",
      "text/plain": [
       "<Figure size 432x288 with 1 Axes>"
      ]
     },
     "metadata": {
      "needs_background": "light"
     },
     "output_type": "display_data"
    }
   ],
   "source": [
    "usage.plot.bar (x = 'usage', y = 'Number of parcels', title = 'Publicly owned parcels usage in LA')"
   ]
  },
  {
   "cell_type": "code",
   "execution_count": null,
   "id": "bf382bf3-9274-4f5f-960f-083be617f612",
   "metadata": {},
   "outputs": [],
   "source": []
  }
 ],
 "metadata": {
  "kernelspec": {
   "display_name": "Python 3 (ipykernel)",
   "language": "python",
   "name": "python3"
  },
  "language_info": {
   "codemirror_mode": {
    "name": "ipython",
    "version": 3
   },
   "file_extension": ".py",
   "mimetype": "text/x-python",
   "name": "python",
   "nbconvert_exporter": "python",
   "pygments_lexer": "ipython3",
   "version": "3.9.6"
  }
 },
 "nbformat": 4,
 "nbformat_minor": 5
}
